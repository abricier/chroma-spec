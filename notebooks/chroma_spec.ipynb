{
 "cells": [
  {
   "cell_type": "markdown",
   "metadata": {},
   "source": [
    "*Copyright 2022 abricier  \n",
    "All rights reserved* \n",
    "\n",
    "*The Jupyter Notebook is an application that allows you to create and share documents that contain live code, equations, visualizations and narrative text. Uses include: data cleaning and transformation, numerical simulation, statistical modeling, data visualization, machine learning, and much more.*\n",
    "\n",
    "# Jupyter Notebook for chroma-spec"
   ]
  },
  {
   "cell_type": "code",
   "execution_count": null,
   "metadata": {},
   "outputs": [],
   "source": [
    "import logging\n",
    "import tempfile\n",
    "\n",
    "from chroma_spec import spec, utils\n",
    "\n",
    "utils.setup_logger(verbose=False)\n",
    "ciex = 0.3871\n",
    "ciey = 0.3670\n",
    "model = \"FW3X_519a_sm575_dd\"\n",
    "tmp_path = tempfile.mkdtemp()\n",
    "\n",
    "logging.info(tmp_path)\n",
    "\n",
    "# spec.plot_chroma_spec(ciex, ciey, model, tmp_path)\n",
    "spec.plot_chroma_spec(ciex, ciey, model, tmp_path, zoom=True)\n",
    "\n"
   ]
  }
 ],
 "metadata": {
  "kernelspec": {
   "display_name": "Python 3.8.10 ('.venv': poetry)",
   "language": "python",
   "name": "python3"
  },
  "language_info": {
   "codemirror_mode": {
    "name": "ipython",
    "version": 3
   },
   "file_extension": ".py",
   "mimetype": "text/x-python",
   "name": "python",
   "nbconvert_exporter": "python",
   "pygments_lexer": "ipython3",
   "version": "3.8.10"
  },
  "orig_nbformat": 4,
  "vscode": {
   "interpreter": {
    "hash": "ca60f418465b6d075f9e3bb2aa9bbe93e44588f219a2416979f0312b705d9943"
   }
  }
 },
 "nbformat": 4,
 "nbformat_minor": 2
}
